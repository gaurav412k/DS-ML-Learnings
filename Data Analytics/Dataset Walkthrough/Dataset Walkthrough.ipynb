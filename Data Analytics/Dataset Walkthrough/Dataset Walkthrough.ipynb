{
 "cells": [
  {
   "cell_type": "code",
   "execution_count": 2,
   "id": "9e348f33",
   "metadata": {},
   "outputs": [],
   "source": [
    "import numpy as np\n",
    "import pandas as pd"
   ]
  },
  {
   "cell_type": "code",
   "execution_count": 35,
   "id": "d9aa0193",
   "metadata": {},
   "outputs": [],
   "source": [
    "data = pd.read_csv('googleplaystore.csv')"
   ]
  },
  {
   "cell_type": "code",
   "execution_count": 46,
   "id": "d9c7fa43",
   "metadata": {},
   "outputs": [
    {
     "name": "stdout",
     "output_type": "stream",
     "text": [
      "Photo Editor & Candy Camera & Grid & ScrapBook\n",
      "ART_AND_DESIGN\n",
      "4.1\n",
      "159\n",
      "19M\n",
      "10,000+\n",
      "Free\n",
      "0\n",
      "Everyone\n",
      "Art & Design\n",
      "January 7, 2018\n",
      "1.0.0\n",
      "4.0.3 and up\n"
     ]
    }
   ],
   "source": [
    "for i in data.columns:\n",
    "    print(data[i][0])"
   ]
  },
  {
   "cell_type": "code",
   "execution_count": 48,
   "id": "50309df5",
   "metadata": {},
   "outputs": [
    {
     "data": {
      "text/plain": [
       "0                     Art & Design\n",
       "1        Art & Design;Pretend Play\n",
       "2                     Art & Design\n",
       "3                     Art & Design\n",
       "4          Art & Design;Creativity\n",
       "                   ...            \n",
       "10836                    Education\n",
       "10837                    Education\n",
       "10838                      Medical\n",
       "10839            Books & Reference\n",
       "10840                    Lifestyle\n",
       "Name: Genres, Length: 10841, dtype: object"
      ]
     },
     "execution_count": 48,
     "metadata": {},
     "output_type": "execute_result"
    }
   ],
   "source": []
  }
 ],
 "metadata": {
  "kernelspec": {
   "display_name": "Python 3 (ipykernel)",
   "language": "python",
   "name": "python3"
  },
  "language_info": {
   "codemirror_mode": {
    "name": "ipython",
    "version": 3
   },
   "file_extension": ".py",
   "mimetype": "text/x-python",
   "name": "python",
   "nbconvert_exporter": "python",
   "pygments_lexer": "ipython3",
   "version": "3.10.9"
  }
 },
 "nbformat": 4,
 "nbformat_minor": 5
}
