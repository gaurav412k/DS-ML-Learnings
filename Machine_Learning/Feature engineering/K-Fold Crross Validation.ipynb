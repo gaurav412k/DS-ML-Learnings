{
 "cells": [
  {
   "cell_type": "code",
   "execution_count": 6,
   "id": "afe529c0-08a3-4ff1-a1d0-6c30bb79fb83",
   "metadata": {},
   "outputs": [],
   "source": [
    "import numpy as np \n",
    "import pandas as pd \n",
    "import matplotlib.axes as ax\n",
    "import matplotlib.pyplot as plt \n",
    "\n",
    "from sklearn import datasets \n",
    "import warnings \n",
    "warnings.filterwarnings(\"ignore\")"
   ]
  },
  {
   "cell_type": "code",
   "execution_count": 10,
   "id": "25ced7bf-a3d2-4209-ab78-08caf591ff3f",
   "metadata": {},
   "outputs": [],
   "source": [
    "data = datasets.fetch_california_housing()"
   ]
  },
  {
   "cell_type": "code",
   "execution_count": 12,
   "id": "0be09d03-d8dd-489f-8e1f-aab5242998e0",
   "metadata": {},
   "outputs": [
    {
     "data": {
      "text/plain": [
       "{'data': array([[   8.3252    ,   41.        ,    6.98412698, ...,    2.55555556,\n",
       "           37.88      , -122.23      ],\n",
       "        [   8.3014    ,   21.        ,    6.23813708, ...,    2.10984183,\n",
       "           37.86      , -122.22      ],\n",
       "        [   7.2574    ,   52.        ,    8.28813559, ...,    2.80225989,\n",
       "           37.85      , -122.24      ],\n",
       "        ...,\n",
       "        [   1.7       ,   17.        ,    5.20554273, ...,    2.3256351 ,\n",
       "           39.43      , -121.22      ],\n",
       "        [   1.8672    ,   18.        ,    5.32951289, ...,    2.12320917,\n",
       "           39.43      , -121.32      ],\n",
       "        [   2.3886    ,   16.        ,    5.25471698, ...,    2.61698113,\n",
       "           39.37      , -121.24      ]]),\n",
       " 'target': array([4.526, 3.585, 3.521, ..., 0.923, 0.847, 0.894]),\n",
       " 'frame': None,\n",
       " 'target_names': ['MedHouseVal'],\n",
       " 'feature_names': ['MedInc',\n",
       "  'HouseAge',\n",
       "  'AveRooms',\n",
       "  'AveBedrms',\n",
       "  'Population',\n",
       "  'AveOccup',\n",
       "  'Latitude',\n",
       "  'Longitude'],\n",
       " 'DESCR': '.. _california_housing_dataset:\\n\\nCalifornia Housing dataset\\n--------------------------\\n\\n**Data Set Characteristics:**\\n\\n:Number of Instances: 20640\\n\\n:Number of Attributes: 8 numeric, predictive attributes and the target\\n\\n:Attribute Information:\\n    - MedInc        median income in block group\\n    - HouseAge      median house age in block group\\n    - AveRooms      average number of rooms per household\\n    - AveBedrms     average number of bedrooms per household\\n    - Population    block group population\\n    - AveOccup      average number of household members\\n    - Latitude      block group latitude\\n    - Longitude     block group longitude\\n\\n:Missing Attribute Values: None\\n\\nThis dataset was obtained from the StatLib repository.\\nhttps://www.dcc.fc.up.pt/~ltorgo/Regression/cal_housing.html\\n\\nThe target variable is the median house value for California districts,\\nexpressed in hundreds of thousands of dollars ($100,000).\\n\\nThis dataset was derived from the 1990 U.S. census, using one row per census\\nblock group. A block group is the smallest geographical unit for which the U.S.\\nCensus Bureau publishes sample data (a block group typically has a population\\nof 600 to 3,000 people).\\n\\nA household is a group of people residing within a home. Since the average\\nnumber of rooms and bedrooms in this dataset are provided per household, these\\ncolumns may take surprisingly large values for block groups with few households\\nand many empty houses, such as vacation resorts.\\n\\nIt can be downloaded/loaded using the\\n:func:`sklearn.datasets.fetch_california_housing` function.\\n\\n.. topic:: References\\n\\n    - Pace, R. Kelley and Ronald Barry, Sparse Spatial Autoregressions,\\n      Statistics and Probability Letters, 33 (1997) 291-297\\n'}"
      ]
     },
     "execution_count": 12,
     "metadata": {},
     "output_type": "execute_result"
    }
   ],
   "source": [
    "data"
   ]
  },
  {
   "cell_type": "markdown",
   "id": "9397cf1a-dcfd-4275-9b65-9e9c9b206374",
   "metadata": {},
   "source": [
    "# Data"
   ]
  },
  {
   "cell_type": "code",
   "execution_count": 14,
   "id": "441b7051-af5d-42aa-8fbf-deedb7d07a53",
   "metadata": {},
   "outputs": [],
   "source": [
    "x = data.data\n",
    "y = data.target"
   ]
  },
  {
   "cell_type": "code",
   "execution_count": 17,
   "id": "8b458f9f-1a33-4d91-8976-ffc4530a26eb",
   "metadata": {},
   "outputs": [
    {
     "data": {
      "text/plain": [
       "['MedInc',\n",
       " 'HouseAge',\n",
       " 'AveRooms',\n",
       " 'AveBedrms',\n",
       " 'Population',\n",
       " 'AveOccup',\n",
       " 'Latitude',\n",
       " 'Longitude']"
      ]
     },
     "execution_count": 17,
     "metadata": {},
     "output_type": "execute_result"
    }
   ],
   "source": [
    "features = data.feature_names\n",
    "features"
   ]
  },
  {
   "cell_type": "markdown",
   "id": "5ed924aa-4545-41a6-9c5f-7706141417a1",
   "metadata": {},
   "source": [
    "# Train test Split"
   ]
  },
  {
   "cell_type": "code",
   "execution_count": 18,
   "id": "5de19525-92c3-43bb-a498-0a1024fd4717",
   "metadata": {},
   "outputs": [],
   "source": [
    "from sklearn.model_selection import train_test_split\n",
    "x_train, x_test, y_train, y_test = train_test_split(x, y, test_size= 0.2, random_state= 42)"
   ]
  },
  {
   "cell_type": "code",
   "execution_count": 19,
   "id": "0923db2d-2598-42f7-aa8c-b2a4d9ddd784",
   "metadata": {},
   "outputs": [
    {
     "name": "stdout",
     "output_type": "stream",
     "text": [
      "(16512, 8) (4128, 8)\n",
      "(16512,) (4128,)\n"
     ]
    }
   ],
   "source": [
    "print(x_train.shape, x_test.shape)\n",
    "print(y_train.shape, y_test.shape)"
   ]
  },
  {
   "cell_type": "markdown",
   "id": "a2ac095f-aa1f-4bbd-b52b-3b0a66cef021",
   "metadata": {
    "scrolled": true
   },
   "source": [
    "# Random Forest"
   ]
  },
  {
   "cell_type": "code",
   "execution_count": 24,
   "id": "11e877fa-a9be-47ad-a96f-0af35ddbcb86",
   "metadata": {},
   "outputs": [],
   "source": [
    "from sklearn.ensemble import RandomForestRegressor\n",
    "rf = RandomForestRegressor(100)\n",
    "rf = rf.fit(x_train, y_train)\n",
    "\n",
    "y_pred = rf.predict(x_test)"
   ]
  },
  {
   "cell_type": "code",
   "execution_count": 25,
   "id": "43841781-969b-49a4-9ec7-712d662c1d5d",
   "metadata": {},
   "outputs": [
    {
     "data": {
      "text/plain": [
       "(4128,)"
      ]
     },
     "execution_count": 25,
     "metadata": {},
     "output_type": "execute_result"
    }
   ],
   "source": [
    "y_pred.shape"
   ]
  },
  {
   "cell_type": "code",
   "execution_count": 27,
   "id": "0b0ff353-fe78-4d1f-9364-680d510a5137",
   "metadata": {},
   "outputs": [
    {
     "data": {
      "text/plain": [
       "0.2525828701198457"
      ]
     },
     "execution_count": 27,
     "metadata": {},
     "output_type": "execute_result"
    }
   ],
   "source": [
    "from sklearn.metrics import mean_squared_error\n",
    "mean_squared_error(y_pred, y_test)"
   ]
  },
  {
   "cell_type": "markdown",
   "id": "3bf669df-3d56-4480-b958-d1b91f200108",
   "metadata": {},
   "source": [
    "# K-fold Cross Validation"
   ]
  },
  {
   "cell_type": "code",
   "execution_count": 33,
   "id": "50df2344-fbbb-4f52-95a5-6d1cbda19a76",
   "metadata": {},
   "outputs": [
    {
     "name": "stdout",
     "output_type": "stream",
     "text": [
      "Train -\n",
      " [ 4128  4129  4130 ... 20637 20638 20639] \n",
      "Test -\n",
      " [   0    1    2 ... 4125 4126 4127]\n",
      "======================================================= \n",
      "\n",
      "Train -\n",
      " [    0     1     2 ... 20637 20638 20639] \n",
      "Test -\n",
      " [4128 4129 4130 ... 8253 8254 8255]\n",
      "======================================================= \n",
      "\n",
      "Train -\n",
      " [    0     1     2 ... 20637 20638 20639] \n",
      "Test -\n",
      " [ 8256  8257  8258 ... 12381 12382 12383]\n",
      "======================================================= \n",
      "\n",
      "Train -\n",
      " [    0     1     2 ... 20637 20638 20639] \n",
      "Test -\n",
      " [12384 12385 12386 ... 16509 16510 16511]\n",
      "======================================================= \n",
      "\n",
      "Train -\n",
      " [    0     1     2 ... 16509 16510 16511] \n",
      "Test -\n",
      " [16512 16513 16514 ... 20637 20638 20639]\n",
      "======================================================= \n",
      "\n"
     ]
    }
   ],
   "source": [
    "from sklearn.model_selection import KFold\n",
    "kfold = KFold(n_splits=5, shuffle = False)\n",
    "\n",
    "for train_index, test_index in kfold.split(x):\n",
    "    print(\"Train -\\n\", train_index, \"\\nTest -\\n\", test_index)\n",
    "    print(\"===========\"*5,\"\\n\")"
   ]
  },
  {
   "cell_type": "markdown",
   "id": "c3a20ec8-7773-4f01-99cc-391a18de4807",
   "metadata": {},
   "source": [
    "# Again Random Forest "
   ]
  },
  {
   "cell_type": "code",
   "execution_count": 37,
   "id": "a4d5c070-ec5b-4806-be49-4d781752e212",
   "metadata": {},
   "outputs": [
    {
     "name": "stdout",
     "output_type": "stream",
     "text": [
      "Results for n_estimators:  100\n",
      "[0.5240164745949119, 0.35165922724083737, 0.37281511070190304, 0.45204961553161466, 0.46271027195271447]\n",
      "Average Error =  0.4326501400043963\n",
      "Results for n_estimators:  200\n",
      "[0.5185771541092332, 0.3481788755578832, 0.37535227836059015, 0.4452797311440602, 0.46730158649402875]\n",
      "Average Error =  0.4309379251331591\n",
      "Results for n_estimators:  500\n",
      "[0.5303652356257684, 0.3452342553026066, 0.3763786112303512, 0.4518901174234504, 0.4707077694804153]\n",
      "Average Error =  0.43491519781251836\n"
     ]
    }
   ],
   "source": [
    "rf1 = RandomForestRegressor()\n",
    "\n",
    "n_est = [100, 200, 500]\n",
    "\n",
    "for n_estimator in n_est :\n",
    "    error = []\n",
    "    for train_index, test_index in kfold.split(x):\n",
    "        x_train, x_test = x[train_index],x[test_index]\n",
    "        y_train, y_test = y[train_index],y[test_index]\n",
    "\n",
    "        rf1 = RandomForestRegressor(100)\n",
    "            \n",
    "        rf1 = rf1.fit(x_train, y_train)\n",
    "        \n",
    "        y_pred = rf1.predict(x_test)\n",
    "        \n",
    "        error.append (mean_squared_error(y_test,y_pred))    \n",
    "    print(\"Results for n_estimators: \", n_estimator)\n",
    "    print(error)\n",
    "    print(\"Average Error = \", sum(error)/len(error))"
   ]
  },
  {
   "cell_type": "code",
   "execution_count": 36,
   "id": "65063058-2cd6-47f2-9383-8681768ac5e7",
   "metadata": {},
   "outputs": [
    {
     "data": {
      "text/plain": [
       "[0.5320180461124817,\n",
       " 0.34481537637913023,\n",
       " 0.3749978383705902,\n",
       " 0.44723757433048317,\n",
       " 0.461729349216705]"
      ]
     },
     "execution_count": 36,
     "metadata": {},
     "output_type": "execute_result"
    }
   ],
   "source": [
    "error"
   ]
  }
 ],
 "metadata": {
  "kernelspec": {
   "display_name": "Python 3 (ipykernel)",
   "language": "python",
   "name": "python3"
  },
  "language_info": {
   "codemirror_mode": {
    "name": "ipython",
    "version": 3
   },
   "file_extension": ".py",
   "mimetype": "text/x-python",
   "name": "python",
   "nbconvert_exporter": "python",
   "pygments_lexer": "ipython3",
   "version": "3.12.3"
  }
 },
 "nbformat": 4,
 "nbformat_minor": 5
}
