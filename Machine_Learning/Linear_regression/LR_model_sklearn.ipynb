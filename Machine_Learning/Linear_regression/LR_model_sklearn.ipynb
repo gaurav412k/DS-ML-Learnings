{
 "cells": [
  {
   "cell_type": "code",
   "execution_count": 2,
   "id": "3595fec8",
   "metadata": {},
   "outputs": [],
   "source": [
    "import numpy as np \n",
    "import pandas as pd \n",
    "import matplotlib.pyplot as plt \n",
    "import matplotlib.axes as ax\n"
   ]
  },
  {
   "cell_type": "markdown",
   "id": "736deb71",
   "metadata": {},
   "source": [
    "## Loading data"
   ]
  },
  {
   "cell_type": "code",
   "execution_count": 11,
   "id": "29411955",
   "metadata": {},
   "outputs": [
    {
     "data": {
      "text/plain": [
       "(699, 2)"
      ]
     },
     "execution_count": 11,
     "metadata": {},
     "output_type": "execute_result"
    }
   ],
   "source": [
    "data = pd.read_csv('data_for_lr.csv')\n",
    "data.dropna(inplace=True)\n",
    "data.shape"
   ]
  },
  {
   "cell_type": "markdown",
   "id": "ef49b19f",
   "metadata": {},
   "source": [
    "### Splitting data"
   ]
  },
  {
   "cell_type": "code",
   "execution_count": 23,
   "id": "b536e3ff",
   "metadata": {},
   "outputs": [],
   "source": [
    "#Training data \n",
    "train_input=np.array(data.x[0:500]).reshape(500,1) \n",
    "train_output = np.array(data.y[0:500]).reshape(500,1)\n",
    "\n",
    "#Test data \n",
    "test_input = np.array(data.x[500:700]).reshape(199,1)\n",
    "test_output = np.array(data.y[500:700]).reshape(199,1)"
   ]
  },
  {
   "cell_type": "markdown",
   "id": "d2f6ef11",
   "metadata": {},
   "source": [
    "# <font color = 'green' > LINEAR Regression"
   ]
  },
  {
   "cell_type": "markdown",
   "id": "08cb36ad",
   "metadata": {},
   "source": [
    "## Training Model"
   ]
  },
  {
   "cell_type": "code",
   "execution_count": 26,
   "id": "21c5206b",
   "metadata": {},
   "outputs": [],
   "source": [
    "from sklearn.linear_model import LinearRegression"
   ]
  },
  {
   "cell_type": "code",
   "execution_count": 31,
   "id": "ba09088d",
   "metadata": {},
   "outputs": [],
   "source": [
    "lr = LinearRegression()"
   ]
  },
  {
   "cell_type": "code",
   "execution_count": 32,
   "id": "a5c5eaad",
   "metadata": {},
   "outputs": [
    {
     "data": {
      "text/html": [
       "<style>#sk-container-id-1 {color: black;}#sk-container-id-1 pre{padding: 0;}#sk-container-id-1 div.sk-toggleable {background-color: white;}#sk-container-id-1 label.sk-toggleable__label {cursor: pointer;display: block;width: 100%;margin-bottom: 0;padding: 0.3em;box-sizing: border-box;text-align: center;}#sk-container-id-1 label.sk-toggleable__label-arrow:before {content: \"▸\";float: left;margin-right: 0.25em;color: #696969;}#sk-container-id-1 label.sk-toggleable__label-arrow:hover:before {color: black;}#sk-container-id-1 div.sk-estimator:hover label.sk-toggleable__label-arrow:before {color: black;}#sk-container-id-1 div.sk-toggleable__content {max-height: 0;max-width: 0;overflow: hidden;text-align: left;background-color: #f0f8ff;}#sk-container-id-1 div.sk-toggleable__content pre {margin: 0.2em;color: black;border-radius: 0.25em;background-color: #f0f8ff;}#sk-container-id-1 input.sk-toggleable__control:checked~div.sk-toggleable__content {max-height: 200px;max-width: 100%;overflow: auto;}#sk-container-id-1 input.sk-toggleable__control:checked~label.sk-toggleable__label-arrow:before {content: \"▾\";}#sk-container-id-1 div.sk-estimator input.sk-toggleable__control:checked~label.sk-toggleable__label {background-color: #d4ebff;}#sk-container-id-1 div.sk-label input.sk-toggleable__control:checked~label.sk-toggleable__label {background-color: #d4ebff;}#sk-container-id-1 input.sk-hidden--visually {border: 0;clip: rect(1px 1px 1px 1px);clip: rect(1px, 1px, 1px, 1px);height: 1px;margin: -1px;overflow: hidden;padding: 0;position: absolute;width: 1px;}#sk-container-id-1 div.sk-estimator {font-family: monospace;background-color: #f0f8ff;border: 1px dotted black;border-radius: 0.25em;box-sizing: border-box;margin-bottom: 0.5em;}#sk-container-id-1 div.sk-estimator:hover {background-color: #d4ebff;}#sk-container-id-1 div.sk-parallel-item::after {content: \"\";width: 100%;border-bottom: 1px solid gray;flex-grow: 1;}#sk-container-id-1 div.sk-label:hover label.sk-toggleable__label {background-color: #d4ebff;}#sk-container-id-1 div.sk-serial::before {content: \"\";position: absolute;border-left: 1px solid gray;box-sizing: border-box;top: 0;bottom: 0;left: 50%;z-index: 0;}#sk-container-id-1 div.sk-serial {display: flex;flex-direction: column;align-items: center;background-color: white;padding-right: 0.2em;padding-left: 0.2em;position: relative;}#sk-container-id-1 div.sk-item {position: relative;z-index: 1;}#sk-container-id-1 div.sk-parallel {display: flex;align-items: stretch;justify-content: center;background-color: white;position: relative;}#sk-container-id-1 div.sk-item::before, #sk-container-id-1 div.sk-parallel-item::before {content: \"\";position: absolute;border-left: 1px solid gray;box-sizing: border-box;top: 0;bottom: 0;left: 50%;z-index: -1;}#sk-container-id-1 div.sk-parallel-item {display: flex;flex-direction: column;z-index: 1;position: relative;background-color: white;}#sk-container-id-1 div.sk-parallel-item:first-child::after {align-self: flex-end;width: 50%;}#sk-container-id-1 div.sk-parallel-item:last-child::after {align-self: flex-start;width: 50%;}#sk-container-id-1 div.sk-parallel-item:only-child::after {width: 0;}#sk-container-id-1 div.sk-dashed-wrapped {border: 1px dashed gray;margin: 0 0.4em 0.5em 0.4em;box-sizing: border-box;padding-bottom: 0.4em;background-color: white;}#sk-container-id-1 div.sk-label label {font-family: monospace;font-weight: bold;display: inline-block;line-height: 1.2em;}#sk-container-id-1 div.sk-label-container {text-align: center;}#sk-container-id-1 div.sk-container {/* jupyter's `normalize.less` sets `[hidden] { display: none; }` but bootstrap.min.css set `[hidden] { display: none !important; }` so we also need the `!important` here to be able to override the default hidden behavior on the sphinx rendered scikit-learn.org. See: https://github.com/scikit-learn/scikit-learn/issues/21755 */display: inline-block !important;position: relative;}#sk-container-id-1 div.sk-text-repr-fallback {display: none;}</style><div id=\"sk-container-id-1\" class=\"sk-top-container\"><div class=\"sk-text-repr-fallback\"><pre>LinearRegression()</pre><b>In a Jupyter environment, please rerun this cell to show the HTML representation or trust the notebook. <br />On GitHub, the HTML representation is unable to render, please try loading this page with nbviewer.org.</b></div><div class=\"sk-container\" hidden><div class=\"sk-item\"><div class=\"sk-estimator sk-toggleable\"><input class=\"sk-toggleable__control sk-hidden--visually\" id=\"sk-estimator-id-1\" type=\"checkbox\" checked><label for=\"sk-estimator-id-1\" class=\"sk-toggleable__label sk-toggleable__label-arrow\">LinearRegression</label><div class=\"sk-toggleable__content\"><pre>LinearRegression()</pre></div></div></div></div></div>"
      ],
      "text/plain": [
       "LinearRegression()"
      ]
     },
     "execution_count": 32,
     "metadata": {},
     "output_type": "execute_result"
    }
   ],
   "source": [
    "lr.fit(train_input,train_output)"
   ]
  },
  {
   "cell_type": "code",
   "execution_count": 34,
   "id": "fce1acee",
   "metadata": {},
   "outputs": [
    {
     "data": {
      "text/plain": [
       "array([[1.0009993]])"
      ]
     },
     "execution_count": 34,
     "metadata": {},
     "output_type": "execute_result"
    }
   ],
   "source": [
    "# value of C\n",
    "\n",
    "lr.coef_"
   ]
  },
  {
   "cell_type": "code",
   "execution_count": 37,
   "id": "c6aecd8b",
   "metadata": {},
   "outputs": [
    {
     "data": {
      "text/plain": [
       "array([-0.23603461])"
      ]
     },
     "execution_count": 37,
     "metadata": {},
     "output_type": "execute_result"
    }
   ],
   "source": [
    "#value of M\n",
    "lr.intercept_"
   ]
  },
  {
   "cell_type": "markdown",
   "id": "55b31a84",
   "metadata": {},
   "source": [
    "# Predicting Test_input "
   ]
  },
  {
   "cell_type": "code",
   "execution_count": 39,
   "id": "641c122a",
   "metadata": {},
   "outputs": [],
   "source": [
    "predicted_value= lr.predict(test_input)"
   ]
  },
  {
   "cell_type": "code",
   "execution_count": 58,
   "id": "fec5400f",
   "metadata": {},
   "outputs": [],
   "source": [
    "from sklearn.metrics import mean_squared_error\n",
    "\n",
    "cost = mean_squared_error(test_output, predicted_value)"
   ]
  },
  {
   "cell_type": "code",
   "execution_count": 59,
   "id": "af6d7865",
   "metadata": {},
   "outputs": [
    {
     "data": {
      "text/plain": [
       "8.030031591835375"
      ]
     },
     "execution_count": 59,
     "metadata": {},
     "output_type": "execute_result"
    }
   ],
   "source": [
    "cost"
   ]
  },
  {
   "cell_type": "code",
   "execution_count": null,
   "id": "59e4e1cf",
   "metadata": {},
   "outputs": [],
   "source": []
  },
  {
   "cell_type": "code",
   "execution_count": null,
   "id": "764feb40",
   "metadata": {},
   "outputs": [],
   "source": []
  },
  {
   "cell_type": "markdown",
   "id": "12d5dab7",
   "metadata": {},
   "source": [
    "# Visualising the model Performance "
   ]
  },
  {
   "cell_type": "code",
   "execution_count": 46,
   "id": "48c0b0f5",
   "metadata": {},
   "outputs": [
    {
     "data": {
      "image/png": "[encoded data removed]",
      "text/plain": [
       "<Figure size 640x480 with 1 Axes>"
      ]
     },
     "metadata": {},
     "output_type": "display_data"
    }
   ],
   "source": [
    "plt.plot(test_input, test_output, '+', color = \"green\")\n",
    "plt.plot(test_input, predicted_value, '*', color= \"red\")\n",
    "plt.title(\"Performance Testing\")\n",
    "plt.xlabel(\"Input_data\")\n",
    "plt.ylabel(\"Output_data\")\n",
    "plt.show()"
   ]
  },
  {
   "cell_type": "code",
   "execution_count": 47,
   "id": "58817165",
   "metadata": {},
   "outputs": [],
   "source": [
    "import pickle"
   ]
  },
  {
   "cell_type": "code",
   "execution_count": 48,
   "id": "6163c35c",
   "metadata": {},
   "outputs": [],
   "source": [
    "filename= \"finalized_model.sav\""
   ]
  },
  {
   "cell_type": "code",
   "execution_count": 60,
   "id": "230f6bf4",
   "metadata": {},
   "outputs": [],
   "source": [
    "pickle.dump(lr, open(filename ,'wb'))"
   ]
  },
  {
   "cell_type": "code",
   "execution_count": 61,
   "id": "f153c33d",
   "metadata": {},
   "outputs": [],
   "source": [
    "loaded_model = pickle.load(open(filename, 'rb'))"
   ]
  },
  {
   "cell_type": "code",
   "execution_count": 62,
   "id": "fedf1abf",
   "metadata": {},
   "outputs": [
    {
     "name": "stdout",
     "output_type": "stream",
     "text": [
      "LinearRegression()\n"
     ]
    }
   ],
   "source": [
    "result = loaded_model.fit(train_input, train_output)\n",
    "print(result)"
   ]
  },
  {
   "cell_type": "code",
   "execution_count": 63,
   "id": "505ac807",
   "metadata": {},
   "outputs": [],
   "source": [
    "a = loaded_model.predict(test_input) "
   ]
  },
  {
   "cell_type": "code",
   "execution_count": 64,
   "id": "e6586ffa",
   "metadata": {},
   "outputs": [
    {
     "data": {
      "text/plain": [
       "array([[ 4.76896187],\n",
       "       [60.82492252],\n",
       "       [46.81093236],\n",
       "       [97.86189652],\n",
       "       [29.7939443 ],\n",
       "       [62.82692111],\n",
       "       [-0.23603461],\n",
       "       [99.86389511],\n",
       "       [17.78195274],\n",
       "       [29.7939443 ],\n",
       "       [97.86189652],\n",
       "       [15.77995414],\n",
       "       [21.78594992],\n",
       "       [54.81892673],\n",
       "       [42.80693517],\n",
       "       [74.83891268],\n",
       "       [90.85490143],\n",
       "       [45.80993306],\n",
       "       [84.84890565],\n",
       "       [54.81892673],\n",
       "       [35.79994009],\n",
       "       [48.81293095],\n",
       "       [93.85789933],\n",
       "       [42.80693517],\n",
       "       [21.78594992],\n",
       "       [36.80093938],\n",
       "       [23.78794852],\n",
       "       [94.85889862],\n",
       "       [60.82492252],\n",
       "       [74.83891268],\n",
       "       [67.8319176 ],\n",
       "       [57.82192463],\n",
       "       [ 4.76896187],\n",
       "       [52.81692814],\n",
       "       [79.84390916],\n",
       "       [82.84690706],\n",
       "       [24.78894782],\n",
       "       [33.79794149],\n",
       "       [25.78994711],\n",
       "       [89.85390214],\n",
       "       [59.82392322],\n",
       "       [48.81293095],\n",
       "       [18.78295203],\n",
       "       [91.85590073],\n",
       "       [28.79294501],\n",
       "       [ 7.77195976],\n",
       "       [56.82092533],\n",
       "       [28.79294501],\n",
       "       [18.78295203],\n",
       "       [80.84490846],\n",
       "       [49.81393025],\n",
       "       [14.77895484],\n",
       "       [69.83391619],\n",
       "       [38.80293798],\n",
       "       [42.80693517],\n",
       "       [20.78495063],\n",
       "       [97.86189652],\n",
       "       [85.84990495],\n",
       "       [15.77995414],\n",
       "       [24.78894782],\n",
       "       [30.7949436 ],\n",
       "       [92.85690003],\n",
       "       [66.8309183 ],\n",
       "       [48.81293095],\n",
       "       [24.78894782],\n",
       "       [87.85190354],\n",
       "       [53.81792744],\n",
       "       [20.78495063],\n",
       "       [ 7.77195976],\n",
       "       [31.7959429 ],\n",
       "       [34.79894079],\n",
       "       [66.8309183 ],\n",
       "       [89.85390214],\n",
       "       [58.82292392],\n",
       "       [14.77895484],\n",
       "       [66.8309183 ],\n",
       "       [41.80593587],\n",
       "       [43.80793446],\n",
       "       [76.84091127],\n",
       "       [67.8319176 ],\n",
       "       [35.79994009],\n",
       "       [10.77495765],\n",
       "       [ 9.77395836],\n",
       "       [64.82891971],\n",
       "       [97.86189652],\n",
       "       [97.86189652],\n",
       "       [48.81293095],\n",
       "       [30.7949436 ],\n",
       "       [55.81992603],\n",
       "       [69.83391619],\n",
       "       [90.85490143],\n",
       "       [24.78894782],\n",
       "       [53.81792744],\n",
       "       [38.80293798],\n",
       "       [90.85490143],\n",
       "       [ 2.76696328],\n",
       "       [21.78594992],\n",
       "       [ 1.76596398],\n",
       "       [ 1.76596398],\n",
       "       [64.82891971],\n",
       "       [70.83491549],\n",
       "       [41.80593587],\n",
       "       [75.83991198],\n",
       "       [42.80693517],\n",
       "       [ 7.77195976],\n",
       "       [85.84990495],\n",
       "       [86.85090425],\n",
       "       [ 2.76696328],\n",
       "       [57.82192463],\n",
       "       [61.82592181],\n",
       "       [88.85290284],\n",
       "       [94.85889862],\n",
       "       [27.79194571],\n",
       "       [-0.23603461],\n",
       "       [ 0.76496468],\n",
       "       [48.81293095],\n",
       "       [20.78495063],\n",
       "       [45.80993306],\n",
       "       [10.77495765],\n",
       "       [88.85290284],\n",
       "       [36.80093938],\n",
       "       [28.79294501],\n",
       "       [43.80793446],\n",
       "       [95.85989792],\n",
       "       [15.77995414],\n",
       "       [73.83791338],\n",
       "       [34.79894079],\n",
       "       [41.80593587],\n",
       "       [15.77995414],\n",
       "       [55.81992603],\n",
       "       [17.78195274],\n",
       "       [99.86389511],\n",
       "       [53.81792744],\n",
       "       [91.85590073],\n",
       "       [62.82692111],\n",
       "       [80.84490846],\n",
       "       [72.83691408],\n",
       "       [47.81193165],\n",
       "       [ 0.76496468],\n",
       "       [84.84890565],\n",
       "       [13.77795555],\n",
       "       [24.78894782],\n",
       "       [44.80893376],\n",
       "       [97.86189652],\n",
       "       [96.86089722],\n",
       "       [57.82192463],\n",
       "       [92.85690003],\n",
       "       [87.85190354],\n",
       "       [88.85290284],\n",
       "       [46.81093236],\n",
       "       [ 5.76996117],\n",
       "       [33.79794149],\n",
       "       [29.7939443 ],\n",
       "       [15.77995414],\n",
       "       [85.84990495],\n",
       "       [39.80393727],\n",
       "       [51.81592884],\n",
       "       [14.77895484],\n",
       "       [ 3.76796257],\n",
       "       [94.85889862],\n",
       "       [98.86289581],\n",
       "       [34.79894079],\n",
       "       [57.82192463],\n",
       "       [ 9.77395836],\n",
       "       [15.77995414],\n",
       "       [52.81692814],\n",
       "       [57.82192463],\n",
       "       [41.80593587],\n",
       "       [23.78794852],\n",
       "       [83.84790635],\n",
       "       [63.82792041],\n",
       "       [11.77595695],\n",
       "       [60.82492252],\n",
       "       [74.83891268],\n",
       "       [14.77895484],\n",
       "       [99.86389511],\n",
       "       [42.80693517],\n",
       "       [12.77695625],\n",
       "       [47.81193165],\n",
       "       [44.80893376],\n",
       "       [51.81592884],\n",
       "       [33.79794149],\n",
       "       [29.7939443 ],\n",
       "       [64.82891971],\n",
       "       [99.86389511],\n",
       "       [66.8309183 ],\n",
       "       [98.86289581],\n",
       "       [44.80893376],\n",
       "       [86.85090425],\n",
       "       [72.83691408],\n",
       "       [ 8.77295906],\n",
       "       [80.84490846],\n",
       "       [71.83591479],\n",
       "       [80.84490846],\n",
       "       [57.82192463],\n",
       "       [92.85690003],\n",
       "       [81.84590776],\n",
       "       [65.829919  ],\n",
       "       [96.86089722]])"
      ]
     },
     "execution_count": 64,
     "metadata": {},
     "output_type": "execute_result"
    }
   ],
   "source": [
    "a"
   ]
  },
  {
   "cell_type": "code",
   "execution_count": null,
   "id": "a4ce7c10",
   "metadata": {},
   "outputs": [],
   "source": []
  },
  {
   "cell_type": "code",
   "execution_count": null,
   "id": "756616bb",
   "metadata": {},
   "outputs": [],
   "source": []
  }
 ],
 "metadata": {
  "kernelspec": {
   "display_name": "Python 3 (ipykernel)",
   "language": "python",
   "name": "python3"
  },
  "language_info": {
   "codemirror_mode": {
    "name": "ipython",
    "version": 3
   },
   "file_extension": ".py",
   "mimetype": "text/x-python",
   "name": "python",
   "nbconvert_exporter": "python",
   "pygments_lexer": "ipython3",
   "version": "3.11.4"
  }
 },
 "nbformat": 4,
 "nbformat_minor": 5
}
