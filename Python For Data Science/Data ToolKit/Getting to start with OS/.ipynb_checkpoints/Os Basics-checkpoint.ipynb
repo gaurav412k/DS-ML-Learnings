{
 "cells": [
  {
   "cell_type": "code",
   "execution_count": 2,
   "id": "e3082fa6",
   "metadata": {},
   "outputs": [],
   "source": [
    "import os"
   ]
  },
  {
   "cell_type": "code",
   "execution_count": 3,
   "id": "2635c22a",
   "metadata": {},
   "outputs": [
    {
     "data": {
      "text/plain": [
       "'C:\\\\Users\\\\OM\\\\Geeks for Geeks\\\\Python For Data Science\\\\Data ToolKit\\\\Getting to start with OS'"
      ]
     },
     "execution_count": 3,
     "metadata": {},
     "output_type": "execute_result"
    }
   ],
   "source": [
    "os.getcwd()"
   ]
  },
  {
   "cell_type": "code",
   "execution_count": 7,
   "id": "d29adf0f",
   "metadata": {},
   "outputs": [
    {
     "data": {
      "text/plain": [
       "'C:\\\\Users\\\\OM\\\\Geeks for Geeks\\\\Python For Data Science\\\\Data ToolKit\\\\Getting to start with OS'"
      ]
     },
     "execution_count": 7,
     "metadata": {},
     "output_type": "execute_result"
    }
   ],
   "source": [
    "pwd"
   ]
  },
  {
   "cell_type": "code",
   "execution_count": 20,
   "id": "c0a8b66a",
   "metadata": {},
   "outputs": [
    {
     "data": {
      "text/plain": [
       "'C:\\\\Users\\\\OM\\\\Desktop\\\\Gaurav'"
      ]
     },
     "execution_count": 20,
     "metadata": {},
     "output_type": "execute_result"
    }
   ],
   "source": [
    "os.getcwd()"
   ]
  },
  {
   "cell_type": "code",
   "execution_count": 24,
   "id": "bd49bfb2",
   "metadata": {
    "scrolled": true
   },
   "outputs": [],
   "source": [
    "os.makedirs(\"TATA/T/A/T/A\")"
   ]
  },
  {
   "cell_type": "code",
   "execution_count": 26,
   "id": "e69556e7",
   "metadata": {},
   "outputs": [
    {
     "data": {
      "text/plain": [
       "'TATA'"
      ]
     },
     "execution_count": 26,
     "metadata": {},
     "output_type": "execute_result"
    }
   ],
   "source": []
  },
  {
   "cell_type": "code",
   "execution_count": 30,
   "id": "16276ba1",
   "metadata": {},
   "outputs": [
    {
     "name": "stdout",
     "output_type": "stream",
     "text": [
      "E:\\GP Photos\\Pondicherry My device\n"
     ]
    }
   ],
   "source": [
    "cd E:\\GP Photos\\Pondicherry My device"
   ]
  },
  {
   "cell_type": "code",
   "execution_count": 34,
   "id": "26b94147",
   "metadata": {},
   "outputs": [
    {
     "name": "stdout",
     "output_type": "stream",
     "text": [
      " Volume in drive C has no label.\n",
      " Volume Serial Number is C6F7-5A4E\n",
      "\n",
      " Directory of C:\\Users\\OM\\Geeks for Geeks\\Python For Data Science\\Data ToolKit\\Getting to start with OS\n",
      "\n",
      "09/18/2023  08:27 PM    <DIR>          .\n",
      "09/18/2023  08:27 PM    <DIR>          ..\n",
      "09/18/2023  08:13 PM    <DIR>          .ipynb_checkpoints\n",
      "09/18/2023  08:08 PM                 0 geeksforgeeks_article.txt\n",
      "09/18/2023  08:27 PM             2,965 Os Basics.ipynb\n",
      "               2 File(s)          2,965 bytes\n",
      "               3 Dir(s)  36,349,427,712 bytes free\n"
     ]
    }
   ],
   "source": [
    "ls"
   ]
  },
  {
   "cell_type": "code",
   "execution_count": 48,
   "id": "e9e68dbe",
   "metadata": {},
   "outputs": [
    {
     "data": {
      "text/plain": [
       "['.ipynb_checkpoints',\n",
       " 'geeksforgeeks_article.txt',\n",
       " 'Os Basics.ipynb',\n",
       " 'Untitled Folder']"
      ]
     },
     "execution_count": 48,
     "metadata": {},
     "output_type": "execute_result"
    }
   ],
   "source": [
    "os.listdir()"
   ]
  },
  {
   "cell_type": "code",
   "execution_count": 53,
   "id": "a53fe634",
   "metadata": {},
   "outputs": [
    {
     "name": "stdout",
     "output_type": "stream",
     "text": [
      "T\n"
     ]
    }
   ],
   "source": [
    "\n",
    "for i in os.listdir('TATA'):\n",
    "    print(i)"
   ]
  },
  {
   "cell_type": "code",
   "execution_count": 69,
   "id": "3a885cf5",
   "metadata": {},
   "outputs": [
    {
     "name": "stdout",
     "output_type": "stream",
     "text": [
      "C:\\Users\\OM\\Desktop\\Gaurav\n"
     ]
    }
   ],
   "source": [
    "cd .."
   ]
  },
  {
   "cell_type": "code",
   "execution_count": 75,
   "id": "3d570a65",
   "metadata": {},
   "outputs": [],
   "source": [
    "for i in range(10):\n",
    "    os.mkdir(str(i))"
   ]
  },
  {
   "cell_type": "code",
   "execution_count": 76,
   "id": "80cbc2b9",
   "metadata": {},
   "outputs": [
    {
     "data": {
      "text/plain": [
       "['0', '1', '2', '3', '4', '5', '6', '7', '8', '9']"
      ]
     },
     "execution_count": 76,
     "metadata": {},
     "output_type": "execute_result"
    }
   ],
   "source": [
    "os.listdir()"
   ]
  },
  {
   "cell_type": "code",
   "execution_count": 83,
   "id": "97390b99",
   "metadata": {},
   "outputs": [],
   "source": [
    "os.remove('geeksforgeeks_article.txt')"
   ]
  },
  {
   "cell_type": "code",
   "execution_count": 103,
   "id": "f7df0485",
   "metadata": {},
   "outputs": [],
   "source": [
    "if os.path.exists(\"GFG\")==False:\n",
    "    os.mkdir(\"GFG\")\n",
    "else:\n",
    "    os.rmdir(\"GFG\")"
   ]
  },
  {
   "cell_type": "code",
   "execution_count": 106,
   "id": "4569c2c4",
   "metadata": {},
   "outputs": [
    {
     "data": {
      "text/plain": [
       "0"
      ]
     },
     "execution_count": 106,
     "metadata": {},
     "output_type": "execute_result"
    }
   ],
   "source": [
    "os.path.getsize(\"GFG\")"
   ]
  }
 ],
 "metadata": {
  "kernelspec": {
   "display_name": "Python 3 (ipykernel)",
   "language": "python",
   "name": "python3"
  },
  "language_info": {
   "codemirror_mode": {
    "name": "ipython",
    "version": 3
   },
   "file_extension": ".py",
   "mimetype": "text/x-python",
   "name": "python",
   "nbconvert_exporter": "python",
   "pygments_lexer": "ipython3",
   "version": "3.10.9"
  }
 },
 "nbformat": 4,
 "nbformat_minor": 5
}
