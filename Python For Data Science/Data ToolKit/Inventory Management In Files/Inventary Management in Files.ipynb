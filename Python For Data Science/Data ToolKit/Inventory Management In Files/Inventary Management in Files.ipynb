{
 "cells": [
  {
   "cell_type": "markdown",
   "id": "044c9c83",
   "metadata": {},
   "source": [
    "# Inventary Management in Files"
   ]
  },
  {
   "cell_type": "markdown",
   "id": "23f775d0",
   "metadata": {},
   "source": [
    "# Product Details\n",
    "Product ID\n",
    "\n",
    "Name of Product\n",
    "\n",
    "Price of Product\n",
    "\n",
    "Quantity"
   ]
  },
  {
   "cell_type": "code",
   "execution_count": null,
   "id": "5bd7a35e",
   "metadata": {},
   "outputs": [],
   "source": [
    "# Noting the time \n",
    "import time\n",
    "\n",
    "#Reading the Inventary\n",
    "fd=open('Inventary.txt','r')\n",
    "products=fd.read().split(\"\\n\")\n",
    "fd.close()\n",
    "\n",
    "#Taking Input from user \n",
    "ui_name  =input(\"Enter Your Name           :  \")\n",
    "ui_mob   =input(\"Enter Your Mobile number  :  \")\n",
    "p_id     =input(\"Enter Product ID          :  \")\n",
    "p_qn     =input(\"Enter Product Quantity    :  \")\n",
    "\n",
    "updated_pro=[]\n",
    "\n",
    "#Going through each product Detaiils \n",
    "for product in products: #1,5 Star,5,100 #1 5 Star 5 100\n",
    "    \n",
    "    pro_details= product.split(\",\")\n",
    "    \n",
    "    if ((pro_details[0])==p_id):\n",
    "    # Checking if product exists or not\n",
    "    \n",
    "        if(int(p_qn)<=int(pro_details[3])):\n",
    "         # If we're having enough quantity\n",
    "        \n",
    "            print(\"-------------------------------------------\")\n",
    "            print(\"Product Name              :\",pro_details[1])\n",
    "            print(\"Price                     :\",pro_details[2])\n",
    "            print(\"Quantity Required         :\",p_qn)\n",
    "            print(\"-------------------------------------------\")\n",
    "            print(\"Billing Amount            :\",(int(pro_details[2])*int(p_qn)))\n",
    "            print(\"-------------------------------------------\")\n",
    "            \n",
    "            pro_details[3] = str(int(pro_details[3]) - int(p_qn))\n",
    "            \n",
    "            #Generating  Sales in Sales.txt\n",
    "            fd = open('Sales.txt','a')\n",
    "            sale_details = ui_name+','+ui_mob+','+p_id+','+pro_details[1] +','+p_qn +','+str((int(pro_details[2])*int(p_qn)))+','+time.ctime()+\"\\n\"\n",
    "            fd.write(sale_details)\n",
    "            fd.close()\n",
    "            \n",
    "                \n",
    "        else:\n",
    "            # If we're not having enough quantity\n",
    "\n",
    "            print(\"Sorry, We're not having enought quantity.\")\n",
    "            print(\"We're having only\",pro_details[3],'quantity.')\n",
    "            print(\"Would you like to purchase it?\")\n",
    "            \n",
    "            ch=input(\"Press Y/N : \")\n",
    "            \n",
    "            if(ch==\"y\" or ch==\"Y\"):\n",
    "             # If you want to purchase with remaining quantity\n",
    "            \n",
    "                print(\"-------------------------------------------\")\n",
    "                print(\"Product Name             :\",pro_details[1])\n",
    "                print(\"Price                    :\",pro_details[2])\n",
    "                print(\"Quantity Required        :\",pro_details[3])\n",
    "                print(\"-------------------------------------------\")\n",
    "                print(\"Billing Amount           :\",(int(pro_details[2])*int(pro_details[3])))\n",
    "                print(\"-------------------------------------------\")\n",
    "\n",
    "                #Generating  Sales in Sales.txt\n",
    "                fd = open('Sales.txt','a')\n",
    "                sale_details = ui_name+','+ui_mob+','+p_id+','+pro_details[1] +','+pro_details[3] +','+str((int(pro_details[2])*int(pro_details[3])))+','+time.ctime()+\"\\n\"\n",
    "                fd.write(sale_details)\n",
    "                fd.close()\n",
    "                \n",
    "                #Quantity is updated \n",
    "                pro_details[3]=\"0\"\n",
    "            \n",
    "            else: \n",
    "                print(\"Thanks\")\n",
    "    # Updating my Inventory List\n",
    "    updated_pro.append(pro_details)\n",
    "\n",
    "\n",
    "lst=[]\n",
    "for i in updated_pro:\n",
    "    prod = i[0] +\",\"+ i[1] +\",\"+i[2] +\",\"+ i[3] +\"\\n\"\n",
    "    lst.append(prod)\n",
    "\n",
    "    \n",
    "#Removing last \\n    \n",
    "lst[-1]=lst[-1][:-1]\n",
    "\n",
    "fd=open('Inventary.txt','w')\n",
    "for i in lst:\n",
    "    fd.write(i)\n",
    "    \n",
    "fd.close() \n",
    "\n",
    "print(\"-------------------\")\n",
    "print(\"Inventory Updated\")"
   ]
  },
  {
   "cell_type": "markdown",
   "id": "f802e670",
   "metadata": {},
   "source": [
    "products"
   ]
  }
 ],
 "metadata": {
  "kernelspec": {
   "display_name": "Python 3.10.9 ('base')",
   "language": "python",
   "name": "python3"
  },
  "language_info": {
   "codemirror_mode": {
    "name": "ipython",
    "version": 3
   },
   "file_extension": ".py",
   "mimetype": "text/x-python",
   "name": "python",
   "nbconvert_exporter": "python",
   "pygments_lexer": "ipython3",
   "version": "3.10.9"
  },
  "vscode": {
   "interpreter": {
    "hash": "a5d6c2be6262c78dadbf075e7ed7eef3fc1090c1044fdcff36d11e01ba01e819"
   }
  }
 },
 "nbformat": 4,
 "nbformat_minor": 5
}
