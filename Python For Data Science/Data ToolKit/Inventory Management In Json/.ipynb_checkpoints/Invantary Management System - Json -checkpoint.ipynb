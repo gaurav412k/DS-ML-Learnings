{
 "cells": [
  {
   "cell_type": "code",
   "execution_count": 4,
   "id": "f5f773f8",
   "metadata": {
    "scrolled": false
   },
   "outputs": [
    {
     "name": "stdout",
     "output_type": "stream",
     "text": [
      "------------------MENU---------------------\n",
      "\n",
      "1001  :  5 Star \t| 10 \t| 98\n",
      "1002  :  Bar-One \t| 20 \t| 100\n",
      "1003  :  Candy \t| 2 \t| 1000\n",
      "1004  :  Chocolate Cake \t| 550 \t| 100\n",
      "1005  :  Blueberry Cake \t| 650 \t| 100\n",
      "\n",
      "-------------------------------------------\n",
      "Enter your Name     :   Gaurav \n",
      "Enter mail ID       :   gaurav412k@gmail.com\n",
      "Enter Phone no.      :   7057529316\n",
      "Enter Product ID        :   1001\n",
      "Enter Product Quantity  :   2\n",
      "\n",
      "-------------------------------------------\n",
      "                    Bill                       \n",
      "\n",
      "Name              :  5 Star\n",
      "Price(Rs)         :  10\n",
      "Quantity          :  2\n",
      "-------------------------------------------\n",
      "Billing           :  20 Rs\n",
      "-------------------------------------------\n",
      "\n",
      "---------------------------------------------\n",
      "  Thanks for your order, Inventory Updated!  \n",
      "---------------------------------------------\n"
     ]
    }
   ],
   "source": [
    "import json\n",
    "import time\n",
    "\n",
    "fd = open('Records.json','r')\n",
    "js = fd.read()\n",
    "fd.close()\n",
    "\n",
    "\n",
    "#Converts String File into a Dictionary\n",
    "record = json.loads(js)\n",
    "\n",
    "\n",
    "print(\"------------------MENU---------------------\\n\")\n",
    "\n",
    "for key in record.keys():     #Keys() methopd \n",
    "    print(key,\" : \",record[key][\"Name\"],\"\\t|\",record[key][\"Price\"],\"\\t|\",record[key][\"Qn\"])\n",
    "\n",
    "print(\"\\n-------------------------------------------\")\n",
    "\n",
    "#product Id is in string format because in Records it also in string format \n",
    "ui_name = str(input('Enter your Name     :   '))\n",
    "ui_mail = str(input(\"Enter mail ID       :   \"))\n",
    "ui_ph   = str(input(\"Enter Phone no.      :   \"))\n",
    "ui_pr   = str(input(\"Enter Product ID        :   \"))\n",
    "ui_qn   = int(input(\"Enter Product Quantity  :   \")) \n",
    "\n",
    "\n",
    "#If we have enough Inventory\n",
    "if(record[ui_pr][\"Qn\"]>=ui_qn):\n",
    "\n",
    "    print(\"\\n-------------------------------------------\")\n",
    "    print(\"                    Bill                       \\n\")\n",
    "\n",
    "    print(\"Name              : \",record[ui_pr][\"Name\"])\n",
    "    print(\"Price(Rs)         : \",record[ui_pr][\"Price\"])\n",
    "    print(\"Quantity          : \",ui_qn)\n",
    "    print(\"-------------------------------------------\")\n",
    "    print(\"Billing           : \",record[ui_pr][\"Price\"]*ui_qn,\"Rs\")\n",
    "    print(\"-------------------------------------------\")\n",
    "\n",
    "    #records has been updated\n",
    "    record[ui_pr][\"Qn\"] = record[ui_pr][\"Qn\"] - ui_qn\n",
    "    \n",
    "    sale = '1'+\",\"+ui_name+\",\"+ui_mail+\",\"+ui_ph+\",\"+ui_pr+\",\"+record[ui_pr][\"Name\"]+\",\"+str(record[ui_pr]['Qn'])+\",\"+str(record[ui_pr][\"Price\"])+\",\"+str(record[ui_pr]['Qn'] * record[ui_pr][\"Price\"])+\",\"+time.ctime()\n",
    "        \n",
    "\n",
    "#If we don't have enough Inventory\n",
    "else:\n",
    "    print(\"Sorry ! We are not having enough quantity in our Inventory.\")\n",
    "    print(\"We're only have \"+str(record[ui_pr][\"Qn\"])+\" quantity.\")\n",
    "    print(\"\\n---------------------------------------------\")\n",
    "    \n",
    "     \n",
    "    ch  = str(input(\"Press Y to purchase \"))\n",
    "    \n",
    "    #if yes\n",
    "    if(ch== \"Y\" or ch== \"y\" ):\n",
    "        \n",
    "        print(\"\\n-------------------------------------------\")\n",
    "        print(\"                    Bill                       \\n\")\n",
    "\n",
    "        print(\"Name              : \",record[ui_pr][\"Name\"])\n",
    "        print(\"Price(Rs)         : \",record[ui_pr][\"Price\"])\n",
    "        print(\"Quantity          : \",record[ui_pr][\"Qn\"])\n",
    "        print(\"-------------------------------------------\")\n",
    "        print(\"Billing           : \",record[ui_pr][\"Price\"]*ui_qn,\"Rs\")\n",
    "        print(\"-------------------------------------------\")\n",
    "\n",
    "        #records has been updated\n",
    "        record[ui_pr][\"Qn\"] = 0\n",
    "        \n",
    "        sale = '1'+\",\"+ui_name+\",\"+ui_mail+\",\"+ui_ph+\",\"+ui_pr+\",\"+record[ui_pr][\"Name\"]+\",\"+str(record[ui_pr]['Qn'])+\",\"+str(record[ui_pr][\"Price\"])+\",\"+str(record[ui_pr]['Qn'] * record[ui_pr][\"Price\"])+\",\"+time.ctime()\n",
    "\n",
    "    #if NO\n",
    "    else:\n",
    "        print(\"Thank You\")\n",
    "\n",
    "# converting Dictionary into String File\n",
    "js = json.dumps(record) \n",
    "\n",
    "#storing data in txt file\n",
    "fd= open('Records.json','w')\n",
    "fd.write(js)\n",
    "fd.close()\n",
    "\n",
    "print(\"\\n---------------------------------------------\")\n",
    "print(\"  Thanks for your order, Inventory Updated!  \")\n",
    "print(\"---------------------------------------------\")\n",
    "\n",
    "    "
   ]
  },
  {
   "cell_type": "code",
   "execution_count": 5,
   "id": "7eceaf76",
   "metadata": {},
   "outputs": [
    {
     "data": {
      "text/plain": [
       "'1,Gaurav ,gaurav412k@gmail.com,7057529316,1001,5 Star,96,10,960,Mon Sep 18 19:00:27 2023'"
      ]
     },
     "execution_count": 5,
     "metadata": {},
     "output_type": "execute_result"
    }
   ],
   "source": [
    "sale"
   ]
  }
 ],
 "metadata": {
  "kernelspec": {
   "display_name": "Python 3 (ipykernel)",
   "language": "python",
   "name": "python3"
  },
  "language_info": {
   "codemirror_mode": {
    "name": "ipython",
    "version": 3
   },
   "file_extension": ".py",
   "mimetype": "text/x-python",
   "name": "python",
   "nbconvert_exporter": "python",
   "pygments_lexer": "ipython3",
   "version": "3.10.9"
  }
 },
 "nbformat": 4,
 "nbformat_minor": 5
}
