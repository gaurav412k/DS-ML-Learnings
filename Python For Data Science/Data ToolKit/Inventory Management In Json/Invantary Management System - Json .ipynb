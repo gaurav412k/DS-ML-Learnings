{
 "cells": [
  {
   "cell_type": "code",
   "execution_count": 6,
   "id": "f5f773f8",
   "metadata": {
    "scrolled": false
   },
   "outputs": [
    {
     "name": "stdout",
     "output_type": "stream",
     "text": [
      "------------------MENU---------------------\n",
      "\n",
      "1001  :  5 Star \t| 10 \t| 96\n",
      "1002  :  Bar-One \t| 20 \t| 100\n",
      "1003  :  Candy \t| 2 \t| 1000\n",
      "1004  :  Chocolate Cake \t| 550 \t| 100\n",
      "1005  :  Blueberry Cake \t| 650 \t| 100\n",
      "\n",
      "-------------------------------------------\n"
     ]
    },
    {
     "ename": "KeyboardInterrupt",
     "evalue": "Interrupted by user",
     "output_type": "error",
     "traceback": [
      "\u001b[1;31m---------------------------------------------------------------------------\u001b[0m",
      "\u001b[1;31mKeyboardInterrupt\u001b[0m                         Traceback (most recent call last)",
      "Cell \u001b[1;32mIn[6], line 21\u001b[0m\n\u001b[0;32m     18\u001b[0m \u001b[38;5;28mprint\u001b[39m(\u001b[38;5;124m\"\u001b[39m\u001b[38;5;130;01m\\n\u001b[39;00m\u001b[38;5;124m-------------------------------------------\u001b[39m\u001b[38;5;124m\"\u001b[39m)\n\u001b[0;32m     20\u001b[0m \u001b[38;5;66;03m#product Id is in string format because in Records it also in string format \u001b[39;00m\n\u001b[1;32m---> 21\u001b[0m ui_name \u001b[38;5;241m=\u001b[39m \u001b[38;5;28mstr\u001b[39m(\u001b[38;5;28;43minput\u001b[39;49m\u001b[43m(\u001b[49m\u001b[38;5;124;43m'\u001b[39;49m\u001b[38;5;124;43mEnter your Name     :   \u001b[39;49m\u001b[38;5;124;43m'\u001b[39;49m\u001b[43m)\u001b[49m)\n\u001b[0;32m     22\u001b[0m ui_mail \u001b[38;5;241m=\u001b[39m \u001b[38;5;28mstr\u001b[39m(\u001b[38;5;28minput\u001b[39m(\u001b[38;5;124m\"\u001b[39m\u001b[38;5;124mEnter mail ID       :   \u001b[39m\u001b[38;5;124m\"\u001b[39m))\n\u001b[0;32m     23\u001b[0m ui_ph   \u001b[38;5;241m=\u001b[39m \u001b[38;5;28mstr\u001b[39m(\u001b[38;5;28minput\u001b[39m(\u001b[38;5;124m\"\u001b[39m\u001b[38;5;124mEnter Phone no.      :   \u001b[39m\u001b[38;5;124m\"\u001b[39m))\n",
      "File \u001b[1;32m~\\AppData\\Roaming\\Python\\Python310\\site-packages\\ipykernel\\kernelbase.py:1191\u001b[0m, in \u001b[0;36mKernel.raw_input\u001b[1;34m(self, prompt)\u001b[0m\n\u001b[0;32m   1189\u001b[0m     msg \u001b[38;5;241m=\u001b[39m \u001b[38;5;124m\"\u001b[39m\u001b[38;5;124mraw_input was called, but this frontend does not support input requests.\u001b[39m\u001b[38;5;124m\"\u001b[39m\n\u001b[0;32m   1190\u001b[0m     \u001b[38;5;28;01mraise\u001b[39;00m StdinNotImplementedError(msg)\n\u001b[1;32m-> 1191\u001b[0m \u001b[38;5;28;01mreturn\u001b[39;00m \u001b[38;5;28;43mself\u001b[39;49m\u001b[38;5;241;43m.\u001b[39;49m\u001b[43m_input_request\u001b[49m\u001b[43m(\u001b[49m\n\u001b[0;32m   1192\u001b[0m \u001b[43m    \u001b[49m\u001b[38;5;28;43mstr\u001b[39;49m\u001b[43m(\u001b[49m\u001b[43mprompt\u001b[49m\u001b[43m)\u001b[49m\u001b[43m,\u001b[49m\n\u001b[0;32m   1193\u001b[0m \u001b[43m    \u001b[49m\u001b[38;5;28;43mself\u001b[39;49m\u001b[38;5;241;43m.\u001b[39;49m\u001b[43m_parent_ident\u001b[49m\u001b[43m[\u001b[49m\u001b[38;5;124;43m\"\u001b[39;49m\u001b[38;5;124;43mshell\u001b[39;49m\u001b[38;5;124;43m\"\u001b[39;49m\u001b[43m]\u001b[49m\u001b[43m,\u001b[49m\n\u001b[0;32m   1194\u001b[0m \u001b[43m    \u001b[49m\u001b[38;5;28;43mself\u001b[39;49m\u001b[38;5;241;43m.\u001b[39;49m\u001b[43mget_parent\u001b[49m\u001b[43m(\u001b[49m\u001b[38;5;124;43m\"\u001b[39;49m\u001b[38;5;124;43mshell\u001b[39;49m\u001b[38;5;124;43m\"\u001b[39;49m\u001b[43m)\u001b[49m\u001b[43m,\u001b[49m\n\u001b[0;32m   1195\u001b[0m \u001b[43m    \u001b[49m\u001b[43mpassword\u001b[49m\u001b[38;5;241;43m=\u001b[39;49m\u001b[38;5;28;43;01mFalse\u001b[39;49;00m\u001b[43m,\u001b[49m\n\u001b[0;32m   1196\u001b[0m \u001b[43m\u001b[49m\u001b[43m)\u001b[49m\n",
      "File \u001b[1;32m~\\AppData\\Roaming\\Python\\Python310\\site-packages\\ipykernel\\kernelbase.py:1234\u001b[0m, in \u001b[0;36mKernel._input_request\u001b[1;34m(self, prompt, ident, parent, password)\u001b[0m\n\u001b[0;32m   1231\u001b[0m \u001b[38;5;28;01mexcept\u001b[39;00m \u001b[38;5;167;01mKeyboardInterrupt\u001b[39;00m:\n\u001b[0;32m   1232\u001b[0m     \u001b[38;5;66;03m# re-raise KeyboardInterrupt, to truncate traceback\u001b[39;00m\n\u001b[0;32m   1233\u001b[0m     msg \u001b[38;5;241m=\u001b[39m \u001b[38;5;124m\"\u001b[39m\u001b[38;5;124mInterrupted by user\u001b[39m\u001b[38;5;124m\"\u001b[39m\n\u001b[1;32m-> 1234\u001b[0m     \u001b[38;5;28;01mraise\u001b[39;00m \u001b[38;5;167;01mKeyboardInterrupt\u001b[39;00m(msg) \u001b[38;5;28;01mfrom\u001b[39;00m \u001b[38;5;28;01mNone\u001b[39;00m\n\u001b[0;32m   1235\u001b[0m \u001b[38;5;28;01mexcept\u001b[39;00m \u001b[38;5;167;01mException\u001b[39;00m:\n\u001b[0;32m   1236\u001b[0m     \u001b[38;5;28mself\u001b[39m\u001b[38;5;241m.\u001b[39mlog\u001b[38;5;241m.\u001b[39mwarning(\u001b[38;5;124m\"\u001b[39m\u001b[38;5;124mInvalid Message:\u001b[39m\u001b[38;5;124m\"\u001b[39m, exc_info\u001b[38;5;241m=\u001b[39m\u001b[38;5;28;01mTrue\u001b[39;00m)\n",
      "\u001b[1;31mKeyboardInterrupt\u001b[0m: Interrupted by user"
     ]
    }
   ],
   "source": [
    "import json\n",
    "import time\n",
    "\n",
    "fd = open('Records.json','r')\n",
    "js = fd.read()\n",
    "fd.close()\n",
    "\n",
    "\n",
    "#Converts String File into a Dictionary\n",
    "record = json.loads(js)\n",
    "\n",
    "\n",
    "print(\"------------------MENU---------------------\\n\")\n",
    "\n",
    "for key in record.keys():     #Keys() methopd \n",
    "    print(key,\" : \",record[key][\"Name\"],\"\\t|\",record[key][\"Price\"],\"\\t|\",record[key][\"Qn\"])\n",
    "\n",
    "print(\"\\n-------------------------------------------\")\n",
    "\n",
    "#product Id is in string format because in Records it also in string format \n",
    "ui_name = str(input('Enter your Name     :   '))\n",
    "ui_mail = str(input(\"Enter mail ID       :   \"))\n",
    "ui_ph   = str(input(\"Enter Phone no.      :   \"))\n",
    "ui_pr   = str(input(\"Enter Product ID        :   \"))\n",
    "ui_qn   = int(input(\"Enter Product Quantity  :   \")) \n",
    "\n",
    "\n",
    "#If we have enough Inventory\n",
    "if(record[ui_pr][\"Qn\"]>=ui_qn):\n",
    "\n",
    "    print(\"\\n-------------------------------------------\")\n",
    "    print(\"                    Bill                       \\n\")\n",
    "\n",
    "    print(\"Name              : \",record[ui_pr][\"Name\"])\n",
    "    print(\"Price(Rs)         : \",record[ui_pr][\"Price\"])\n",
    "    print(\"Quantity          : \",ui_qn)\n",
    "    print(\"-------------------------------------------\")\n",
    "    print(\"Billing           : \",record[ui_pr][\"Price\"]*ui_qn,\"Rs\")\n",
    "    print(\"-------------------------------------------\")\n",
    "\n",
    "    #records has been updated\n",
    "    record[ui_pr][\"Qn\"] = record[ui_pr][\"Qn\"] - ui_qn\n",
    "    \n",
    "    sale = '1'+\",\"+ui_name+\",\"+ui_mail+\",\"+ui_ph+\",\"+ui_pr+\",\"+record[ui_pr][\"Name\"]+\",\"+str(record[ui_pr]['Qn'])+\",\"+str(record[ui_pr][\"Price\"])+\",\"+str(record[ui_pr]['Qn'] * record[ui_pr][\"Price\"])+\",\"+time.ctime()\n",
    "        \n",
    "\n",
    "#If we don't have enough Inventory\n",
    "else:\n",
    "    print(\"Sorry ! We are not having enough quantity in our Inventory.\")\n",
    "    print(\"We're only have \"+str(record[ui_pr][\"Qn\"])+\" quantity.\")\n",
    "    print(\"\\n---------------------------------------------\")\n",
    "    \n",
    "     \n",
    "    ch  = str(input(\"Press Y to purchase \"))\n",
    "    \n",
    "    #if yes\n",
    "    if(ch== \"Y\" or ch== \"y\" ):\n",
    "        \n",
    "        print(\"\\n-------------------------------------------\")\n",
    "        print(\"                    Bill                       \\n\")\n",
    "\n",
    "        print(\"Name              : \",record[ui_pr][\"Name\"])\n",
    "        print(\"Price(Rs)         : \",record[ui_pr][\"Price\"])\n",
    "        print(\"Quantity          : \",record[ui_pr][\"Qn\"])\n",
    "        print(\"-------------------------------------------\")\n",
    "        print(\"Billing           : \",record[ui_pr][\"Price\"]*ui_qn,\"Rs\")\n",
    "        print(\"-------------------------------------------\")\n",
    "\n",
    "        #records has been updated\n",
    "        record[ui_pr][\"Qn\"] = 0\n",
    "        \n",
    "        sale = '1'+\",\"+ui_name+\",\"+ui_mail+\",\"+ui_ph+\",\"+ui_pr+\",\"+record[ui_pr][\"Name\"]+\",\"+str(record[ui_pr]['Qn'])+\",\"+str(record[ui_pr][\"Price\"])+\",\"+str(record[ui_pr]['Qn'] * record[ui_pr][\"Price\"])+\",\"+time.ctime()\n",
    "\n",
    "    #if NO\n",
    "    else:\n",
    "        print(\"Thank You\")\n",
    "\n",
    "# converting Dictionary into String File\n",
    "js = json.dumps(record) \n",
    "\n",
    "#storing data in txt file\n",
    "fd= open('Records.json','w')\n",
    "fd.write(js)\n",
    "fd.close()\n",
    "\n",
    "print(\"\\n---------------------------------------------\")\n",
    "print(\"  Thanks for your order, Inventory Updated!  \")\n",
    "print(\"---------------------------------------------\")\n",
    "\n",
    "    "
   ]
  },
  {
   "cell_type": "code",
   "execution_count": 5,
   "id": "7eceaf76",
   "metadata": {},
   "outputs": [
    {
     "data": {
      "text/plain": [
       "'1,Gaurav ,gaurav412k@gmail.com,7057529316,1001,5 Star,96,10,960,Mon Sep 18 19:00:27 2023'"
      ]
     },
     "execution_count": 5,
     "metadata": {},
     "output_type": "execute_result"
    }
   ],
   "source": [
    "sale"
   ]
  }
 ],
 "metadata": {
  "kernelspec": {
   "display_name": "Python 3 (ipykernel)",
   "language": "python",
   "name": "python3"
  },
  "language_info": {
   "codemirror_mode": {
    "name": "ipython",
    "version": 3
   },
   "file_extension": ".py",
   "mimetype": "text/x-python",
   "name": "python",
   "nbconvert_exporter": "python",
   "pygments_lexer": "ipython3",
   "version": "3.10.9"
  }
 },
 "nbformat": 4,
 "nbformat_minor": 5
}
